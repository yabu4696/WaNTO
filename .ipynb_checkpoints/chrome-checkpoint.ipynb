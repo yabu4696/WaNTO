{
 "cells": [
  {
   "cell_type": "code",
   "execution_count": 22,
   "metadata": {},
   "outputs": [
    {
     "name": "stdout",
     "output_type": "stream",
     "text": [
      "Requirement already satisfied: selenium in /opt/conda/lib/python3.8/site-packages (3.141.0)\n",
      "Requirement already satisfied: urllib3 in /opt/conda/lib/python3.8/site-packages (from selenium) (1.25.11)\n",
      "Collecting bs4\n",
      "  Downloading bs4-0.0.1.tar.gz (1.1 kB)\n",
      "Requirement already satisfied: beautifulsoup4 in /opt/conda/lib/python3.8/site-packages (from bs4) (4.9.3)\n",
      "Requirement already satisfied: soupsieve>1.2; python_version >= \"3.0\" in /opt/conda/lib/python3.8/site-packages (from beautifulsoup4->bs4) (2.0.1)\n",
      "Building wheels for collected packages: bs4\n",
      "  Building wheel for bs4 (setup.py) ... \u001b[?25ldone\n",
      "\u001b[?25h  Created wheel for bs4: filename=bs4-0.0.1-py3-none-any.whl size=1273 sha256=6a096ea332622ded9b579b216960e79b4be03d4e3c52c3b37fdde0d5ccbdcba1\n",
      "  Stored in directory: /root/.cache/pip/wheels/75/78/21/68b124549c9bdc94f822c02fb9aa3578a669843f9767776bca\n",
      "Successfully built bs4\n",
      "Installing collected packages: bs4\n",
      "Successfully installed bs4-0.0.1\n"
     ]
    }
   ],
   "source": [
    "!pip install selenium\n",
    "!pip install bs4"
   ]
  },
  {
   "cell_type": "code",
   "execution_count": 1,
   "metadata": {},
   "outputs": [],
   "source": [
    "from bs4 import BeautifulSoup\n",
    "import urllib.request as req\n",
    "from urllib.parse import urlparse\n",
    "from selenium import webdriver\n",
    "from selenium.webdriver.chrome.options import Options\n",
    "from selenium.webdriver.common.keys import Keys\n",
    "import time \n",
    "import pandas as pd\n",
    "import os\n",
    "import datetime \n",
    "import re\n",
    "import requests\n",
    "from http.client import RemoteDisconnected"
   ]
  },
  {
   "cell_type": "code",
   "execution_count": 2,
   "metadata": {},
   "outputs": [],
   "source": [
    "CHROME_BIN = '/opt/google/chrome/chrome'\n",
    "CHROME_DRIVER = '/opt/chrome/chromedriver'"
   ]
  },
  {
   "cell_type": "code",
   "execution_count": 3,
   "metadata": {},
   "outputs": [],
   "source": [
    "options = Options()\n",
    "options.binary_location = CHROME_BIN\n",
    "options.add_argument(\"--disable-dev-shm-usage\")\n",
    "options.add_argument(\"start-maximized\")\n",
    "options.add_argument(\"disable-infobars\")\n",
    "options.add_argument(\"--disable-extensions\")\n",
    "options.add_argument(\"--disable-gpu\")\n",
    "options.add_argument(\"--no-sandbox\")\n",
    "options.add_argument('--lang=ja-JP')\n",
    "options.add_argument('--headless')"
   ]
  },
  {
   "cell_type": "code",
   "execution_count": 4,
   "metadata": {},
   "outputs": [],
   "source": [
    "driver = webdriver.Chrome(options=options,executable_path = CHROME_DRIVER)\n",
    "driver.implicitly_wait(10)"
   ]
  },
  {
   "cell_type": "code",
   "execution_count": 5,
   "metadata": {},
   "outputs": [],
   "source": [
    "driver.get(\"https://google.com\")"
   ]
  },
  {
   "cell_type": "code",
   "execution_count": 6,
   "metadata": {},
   "outputs": [
    {
     "name": "stdout",
     "output_type": "stream",
     "text": [
      "True\n"
     ]
    }
   ],
   "source": [
    "assert 'Google' in driver.title\n",
    "print('True')"
   ]
  },
  {
   "cell_type": "code",
   "execution_count": 7,
   "metadata": {},
   "outputs": [],
   "source": [
    "# kw = input('検索：')\n",
    "# kw = kw.decode('utf-8')\n",
    "kw = 'mac mini'\n",
    "input_element = driver.find_element_by_name('q')\n",
    "input_element.clear()\n",
    "input_element.send_keys(kw)\n",
    "input_element.send_keys(Keys.RETURN)\n",
    "time.sleep(2)  #"
   ]
  },
  {
   "cell_type": "code",
   "execution_count": 8,
   "metadata": {},
   "outputs": [
    {
     "name": "stdout",
     "output_type": "stream",
     "text": [
      "True\n"
     ]
    }
   ],
   "source": [
    "assert kw in driver.title\n",
    "print('True')"
   ]
  },
  {
   "cell_type": "code",
   "execution_count": 9,
   "metadata": {},
   "outputs": [],
   "source": [
    "# page_width = driver.execute_script('return document.body.scrollWidth')\n",
    "# page_height = driver.execute_script('return document.body.scrollHeight')\n",
    "# print('page_width', page_width, sep=':')\n",
    "# print('page_height', page_height, sep=':')\n",
    "# driver.set_window_size(page_width, page_height)\n",
    "# driver.save_screenshot('search_results.png')"
   ]
  },
  {
   "cell_type": "code",
   "execution_count": 10,
   "metadata": {},
   "outputs": [],
   "source": [
    "def get_title(url):\n",
    "    headers_dic = {\"User-Agent\": \"Mozilla/5.0 (Macintosh; Intel Mac OS X 10_15_2) AppleWebKit/537.36 (KHTML, like Gecko) Chrome/79.0.3945.130 Safari/537.36\"}\n",
    "    url_info = requests.get(url,headers=headers_dic)\n",
    "    url_html = BeautifulSoup(url_info.content, \"html.parser\")\n",
    "    title = url_html.find('title')\n",
    "    return title.text"
   ]
  },
  {
   "cell_type": "code",
   "execution_count": 32,
   "metadata": {},
   "outputs": [],
   "source": [
    "def adress_list(driver,url_dict,except_url_dict,pattern):\n",
    "    class_name = \"yuRUbf\"\n",
    "    class_elems = driver.find_elements_by_class_name(class_name)\n",
    "    for elem in class_elems:\n",
    "        a_tag = elem.find_element_by_tag_name(\"a\")\n",
    "        url = a_tag.get_attribute(\"href\")\n",
    "        parsed_url = urlparse(url)\n",
    "        domain_name = parsed_url.netloc\n",
    "        print(domain_name)\n",
    "        if pattern.search(domain_name):\n",
    "            title = get_title(url)\n",
    "            flag = macth_search(except_url_dict,domain_name)\n",
    "            if flag:\n",
    "                continue\n",
    "            except_url_dict[url] = title\n",
    "        else:\n",
    "            title = get_title(url)\n",
    "            flag = macth_search(url_dict,domain_name)\n",
    "            if flag:\n",
    "                continue\n",
    "            url_dict[url] = title"
   ]
  },
  {
   "cell_type": "code",
   "execution_count": 18,
   "metadata": {},
   "outputs": [],
   "source": [
    "def macth_search(url_dict, domain_name):\n",
    "    flag=False\n",
    "    for key in url_dict.keys():\n",
    "        if domain_name in key :\n",
    "            flag = True\n",
    "#             print('macth--'+parsed_url.netloc)\n",
    "            break\n",
    "    return flag"
   ]
  },
  {
   "cell_type": "code",
   "execution_count": 13,
   "metadata": {},
   "outputs": [],
   "source": [
    "def next_page(driver):\n",
    "    next_button = driver.find_element_by_id(\"pnnext\")\n",
    "    next_button.click()"
   ]
  },
  {
   "cell_type": "code",
   "execution_count": 13,
   "metadata": {},
   "outputs": [],
   "source": [
    "re_famous_list = r'amazon|youtube'\n",
    "pattern = re.compile(re_famous_list)"
   ]
  },
  {
   "cell_type": "code",
   "execution_count": 33,
   "metadata": {},
   "outputs": [
    {
     "name": "stdout",
     "output_type": "stream",
     "text": [
      "www.apple.com\n",
      "www.apple.com\n",
      "www.apple.com\n",
      "ja.wikipedia.org\n",
      "pc.watch.impress.co.jp\n",
      "kakaku.com\n",
      "ascii.jp\n",
      "jp.techcrunch.com\n",
      "www.amazon.co.jp\n",
      "wired.jp\n"
     ]
    }
   ],
   "source": [
    "url_dict = {}\n",
    "except_url_dict = {}\n",
    "page_range = 1\n",
    "page_range += 1\n",
    "for page_num in range(1,page_range):\n",
    "    adress_list(driver,url_dict,except_url_dict,pattern)\n",
    "#     next_page(driver)"
   ]
  },
  {
   "cell_type": "code",
   "execution_count": 57,
   "metadata": {},
   "outputs": [
    {
     "name": "stdout",
     "output_type": "stream",
     "text": [
      "<class 'str'>\n",
      "<class 'str'>\n",
      "<class 'str'>\n"
     ]
    }
   ],
   "source": [
    "for url,title in except_url_dict.items():\n",
    "#     print(url,title)\n",
    "    print(type( urlparse(url).netloc))"
   ]
  },
  {
   "cell_type": "code",
   "execution_count": 16,
   "metadata": {},
   "outputs": [
    {
     "data": {
      "text/plain": [
       "dict_keys([])"
      ]
     },
     "execution_count": 16,
     "metadata": {},
     "output_type": "execute_result"
    }
   ],
   "source": [
    "url_dict.keys()"
   ]
  },
  {
   "cell_type": "code",
   "execution_count": null,
   "metadata": {},
   "outputs": [],
   "source": [
    "domai"
   ]
  },
  {
   "cell_type": "code",
   "execution_count": 27,
   "metadata": {},
   "outputs": [],
   "source": [
    "def re_pattern(except_file):\n",
    "    with open(except_file) as f:\n",
    "        pattern_lists = [s.strip() for s in f.readlines()]\n",
    "    pattern_list = '|'.join(pattern_lists)\n",
    "    print(pattern_list)\n",
    "    pattern = re.compile(pattern_list)\n",
    "    return pattern"
   ]
  },
  {
   "cell_type": "code",
   "execution_count": 28,
   "metadata": {},
   "outputs": [],
   "source": [
    "except_file = './except_list.txt'"
   ]
  },
  {
   "cell_type": "code",
   "execution_count": 55,
   "metadata": {},
   "outputs": [
    {
     "data": {
      "text/plain": [
       "re.Pattern"
      ]
     },
     "execution_count": 55,
     "metadata": {},
     "output_type": "execute_result"
    }
   ],
   "source": [
    "pattern = re_pattern(except_file)\n",
    "type(pattern)"
   ]
  },
  {
   "cell_type": "code",
   "execution_count": 45,
   "metadata": {},
   "outputs": [
    {
     "data": {
      "text/plain": [
       "False"
      ]
     },
     "execution_count": 45,
     "metadata": {},
     "output_type": "execute_result"
    }
   ],
   "source": [
    "bool(pattern.search('www.apple.com'))\n"
   ]
  },
  {
   "cell_type": "code",
   "execution_count": 46,
   "metadata": {},
   "outputs": [],
   "source": [
    "from bs4 import BeautifulSoup\n",
    "from urllib.parse import urlparse\n",
    "import urllib.request as req\n",
    "from selenium import webdriver\n",
    "from selenium.webdriver.chrome.options import Options\n",
    "from selenium.webdriver.common.keys import Keys\n",
    "import time \n",
    "import re\n",
    "import requests\n",
    "\n",
    "def make_driver():\n",
    "    CHROME_BIN = '/opt/google/chrome/chrome'\n",
    "    CHROME_DRIVER = '/opt/chrome/chromedriver'\n",
    "\n",
    "    options = Options()\n",
    "    options.binary_location = CHROME_BIN\n",
    "    options.add_argument(\"--disable-dev-shm-usage\")\n",
    "    options.add_argument(\"start-maximized\")\n",
    "    options.add_argument(\"disable-infobars\")\n",
    "    options.add_argument(\"--disable-extensions\")\n",
    "    options.add_argument(\"--disable-gpu\")\n",
    "    options.add_argument(\"--no-sandbox\")\n",
    "    options.add_argument('--lang=ja-JP')\n",
    "    options.add_argument('--headless')\n",
    "\n",
    "    driver = webdriver.Chrome(options=options,executable_path = CHROME_DRIVER)\n",
    "    driver.implicitly_wait(10)\n",
    "    return driver\n",
    "\n",
    "\n",
    "def search(driver, kw):\n",
    "    input_element = driver.find_element_by_name('q')\n",
    "    input_element.clear()\n",
    "    input_element.send_keys(kw)\n",
    "    input_element.send_keys(Keys.RETURN)\n",
    "    time.sleep(2)  \n",
    "\n",
    "def re_pattern(except_file):\n",
    "    with open(except_file) as f:\n",
    "        pattern_lists = [s.strip() for s in f.readlines()]\n",
    "    pattern_list = '|'.join(pattern_lists)\n",
    "    pattern = re.compile(pattern_list)\n",
    "    return pattern\n",
    "\n",
    "def get_title(url):\n",
    "    headers_dic = {\"User-Agent\": \"Mozilla/5.0 (Macintosh; Intel Mac OS X 10_15_2) AppleWebKit/537.36 (KHTML, like Gecko) Chrome/79.0.3945.130 Safari/537.36\"}\n",
    "    url_info = requests.get(url,headers=headers_dic)\n",
    "    url_html = BeautifulSoup(url_info.content, \"html.parser\")\n",
    "    title = url_html.find('title')\n",
    "    return title.text\n",
    "\n",
    "def macth_search(dictionnary, domain_name):\n",
    "    flag=False\n",
    "    for key in dictionary.keys():\n",
    "        if domain_name in key :\n",
    "            flag = True\n",
    "            break\n",
    "    return flag\n",
    "\n",
    "def adress_list(driver,url_dict,except_url_dict,pattern):\n",
    "    class_name = \"yuRUbf\"\n",
    "    class_elems = driver.find_elements_by_class_name(class_name)\n",
    "    for elem in class_elems:\n",
    "        a_tag = elem.find_element_by_tag_name(\"a\")\n",
    "        url = a_tag.get_attribute(\"href\")\n",
    "        parsed_url = urlparse(url)\n",
    "        domain_name = parsed_url.netloc\n",
    "        if bool(pattern.search(domain_name)):\n",
    "            title = get_title(url)\n",
    "            flag = macth_search(except_url_dict,domain_name)\n",
    "            if flag:\n",
    "                continue\n",
    "            except_url_dict[url] = title\n",
    "        else:\n",
    "            title = get_title(url)\n",
    "            flag = macth_search(url_dict,domain_name)\n",
    "            if flag:\n",
    "                continue\n",
    "            url_dict[url] = title\n",
    "    return url_dict, except_url_dict\n",
    "\n",
    "def next_page(driver):\n",
    "    next_button = driver.find_element_by_id(\"pnnext\")\n",
    "    next_button.click()\n",
    "\n",
    "\n",
    "# main\n",
    "def get_url(driver,page_range,except_file):\n",
    "    page_range += 1\n",
    "    pattern = re_pattern(except_file)\n",
    "    url_dict = {}\n",
    "    except_url_dict = {}\n",
    "    for page_num in range(1,page_range):\n",
    "        url_dict,except_url_dict = adress_list(driver,url_dict,except_url_dict,pattern)\n",
    "        next_page(driver)\n",
    "    return url_dict,except_url_dict"
   ]
  },
  {
   "cell_type": "code",
   "execution_count": 49,
   "metadata": {},
   "outputs": [],
   "source": [
    "driver = make_driver()\n",
    "driver.get(\"https://google.com\")\n",
    "search(driver,'mac mini')\n",
    "\n",
    "except_file = './except_list.txt'\n",
    "page_range = 1\n",
    "\n",
    "url_dict,except_url_dict = get_url(driver,page_range,except_file)\n",
    "driver.close()"
   ]
  },
  {
   "cell_type": "code",
   "execution_count": 50,
   "metadata": {},
   "outputs": [
    {
     "data": {
      "text/plain": [
       "{'https://www.apple.com/jp/mac-mini/': 'Mac mini - Apple（日本）',\n",
       " 'https://pc.watch.impress.co.jp/docs/column/nishikawa/1290745.html': '【西川和久の不定期コラム】M1版Mac mini購入記。驚愕のパフォーマンスと、CrossOver 20で秀丸の動作も確認  - PC Watch',\n",
       " 'https://ascii.jp/elem/000/004/034/4034495/': 'ASCII.jp：アップル「M1版Mac mini」意外なほど使えるマシン (1/3)',\n",
       " 'https://jp.techcrunch.com/2020/11/19/3950372020-11-17-the-new-mac-mini-the-revival-of-the-no-compromise-low-cost-mac/': 'M1搭載Mac miniレビュー、高性能で低価格なデスクトップMacの復活  |  TechCrunch Japan',\n",
       " 'https://www.gizmodo.jp/2021/02/m1mini.html': 'M1搭載Mac miniのべストなセットアップ方法 | ギズモード・ジャパン'}"
      ]
     },
     "execution_count": 50,
     "metadata": {},
     "output_type": "execute_result"
    }
   ],
   "source": [
    "url_dict"
   ]
  },
  {
   "cell_type": "code",
   "execution_count": 51,
   "metadata": {},
   "outputs": [
    {
     "data": {
      "text/plain": [
       "{'https://ja.wikipedia.org/wiki/Mac_mini': 'Mac mini - Wikipedia',\n",
       " 'https://kakaku.com/pc/mac-desktop-pc/itemlist.aspx?pdf_se=105': '価格.com - Apple Mac miniのMac デスクトップ 人気売れ筋ランキング',\n",
       " 'https://www.amazon.co.jp/Apple-Mac-mini-Chip-512GB/dp/B08N6M3ZWY': 'Amazon | 最新 Apple Mac mini Apple M1 Chip (8GB RAM, 512GB SSD) | Apple(アップル) | パソコン・周辺機器 通販'}"
      ]
     },
     "execution_count": 51,
     "metadata": {},
     "output_type": "execute_result"
    }
   ],
   "source": [
    "except_url_dict"
   ]
  },
  {
   "cell_type": "code",
   "execution_count": null,
   "metadata": {},
   "outputs": [],
   "source": []
  }
 ],
 "metadata": {
  "kernelspec": {
   "display_name": "Python 3",
   "language": "python",
   "name": "python3"
  },
  "language_info": {
   "codemirror_mode": {
    "name": "ipython",
    "version": 3
   },
   "file_extension": ".py",
   "mimetype": "text/x-python",
   "name": "python",
   "nbconvert_exporter": "python",
   "pygments_lexer": "ipython3",
   "version": "3.8.5"
  }
 },
 "nbformat": 4,
 "nbformat_minor": 4
}

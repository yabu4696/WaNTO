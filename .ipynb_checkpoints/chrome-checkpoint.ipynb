{
 "cells": [
  {
   "cell_type": "code",
   "execution_count": 22,
   "metadata": {},
   "outputs": [
    {
     "name": "stdout",
     "output_type": "stream",
     "text": [
      "Requirement already satisfied: selenium in /opt/conda/lib/python3.8/site-packages (3.141.0)\n",
      "Requirement already satisfied: urllib3 in /opt/conda/lib/python3.8/site-packages (from selenium) (1.25.11)\n",
      "Collecting bs4\n",
      "  Downloading bs4-0.0.1.tar.gz (1.1 kB)\n",
      "Requirement already satisfied: beautifulsoup4 in /opt/conda/lib/python3.8/site-packages (from bs4) (4.9.3)\n",
      "Requirement already satisfied: soupsieve>1.2; python_version >= \"3.0\" in /opt/conda/lib/python3.8/site-packages (from beautifulsoup4->bs4) (2.0.1)\n",
      "Building wheels for collected packages: bs4\n",
      "  Building wheel for bs4 (setup.py) ... \u001b[?25ldone\n",
      "\u001b[?25h  Created wheel for bs4: filename=bs4-0.0.1-py3-none-any.whl size=1273 sha256=6a096ea332622ded9b579b216960e79b4be03d4e3c52c3b37fdde0d5ccbdcba1\n",
      "  Stored in directory: /root/.cache/pip/wheels/75/78/21/68b124549c9bdc94f822c02fb9aa3578a669843f9767776bca\n",
      "Successfully built bs4\n",
      "Installing collected packages: bs4\n",
      "Successfully installed bs4-0.0.1\n"
     ]
    }
   ],
   "source": [
    "!pip install selenium\n",
    "!pip install bs4"
   ]
  },
  {
   "cell_type": "code",
   "execution_count": 1,
   "metadata": {},
   "outputs": [],
   "source": [
    "from bs4 import BeautifulSoup\n",
    "import urllib.request as req\n",
    "from selenium import webdriver\n",
    "from selenium.webdriver.chrome.options import Options\n",
    "from selenium.webdriver.common.keys import Keys\n",
    "import time \n",
    "import pandas as pd\n",
    "import os\n",
    "import datetime \n",
    "import re"
   ]
  },
  {
   "cell_type": "code",
   "execution_count": 2,
   "metadata": {},
   "outputs": [],
   "source": [
    "CHROME_BIN = '/opt/google/chrome/chrome'\n",
    "CHROME_DRIVER = '/opt/chrome/chromedriver'"
   ]
  },
  {
   "cell_type": "code",
   "execution_count": 3,
   "metadata": {},
   "outputs": [],
   "source": [
    "options = Options()\n",
    "options.binary_location = CHROME_BIN\n",
    "options.add_argument(\"--disable-dev-shm-usage\")\n",
    "options.add_argument(\"start-maximized\")\n",
    "options.add_argument(\"disable-infobars\")\n",
    "options.add_argument(\"--disable-extensions\")\n",
    "options.add_argument(\"--disable-gpu\")\n",
    "options.add_argument(\"--no-sandbox\")\n",
    "options.add_argument('--lang=ja-JP')\n",
    "options.add_argument('--headless')"
   ]
  },
  {
   "cell_type": "code",
   "execution_count": 4,
   "metadata": {},
   "outputs": [],
   "source": [
    "driver = webdriver.Chrome(options=options,executable_path = CHROME_DRIVER)\n",
    "driver.implicitly_wait(10)"
   ]
  },
  {
   "cell_type": "code",
   "execution_count": 14,
   "metadata": {},
   "outputs": [],
   "source": [
    "driver.get(\"https://google.com\")"
   ]
  },
  {
   "cell_type": "code",
   "execution_count": 15,
   "metadata": {},
   "outputs": [
    {
     "name": "stdout",
     "output_type": "stream",
     "text": [
      "True\n"
     ]
    }
   ],
   "source": [
    "assert 'Google' in driver.title\n",
    "print('True')"
   ]
  },
  {
   "cell_type": "code",
   "execution_count": 16,
   "metadata": {},
   "outputs": [],
   "source": [
    "# kw = input('検索：')\n",
    "# kw = kw.decode('utf-8')\n",
    "kw = 'mac mini'\n",
    "input_element = driver.find_element_by_name('q')\n",
    "input_element.clear()\n",
    "input_element.send_keys(kw)\n",
    "input_element.send_keys(Keys.RETURN)\n",
    "time.sleep(2)  #"
   ]
  },
  {
   "cell_type": "code",
   "execution_count": 17,
   "metadata": {},
   "outputs": [
    {
     "name": "stdout",
     "output_type": "stream",
     "text": [
      "True\n"
     ]
    }
   ],
   "source": [
    "assert kw in driver.title\n",
    "print('True')"
   ]
  },
  {
   "cell_type": "code",
   "execution_count": 18,
   "metadata": {},
   "outputs": [
    {
     "name": "stdout",
     "output_type": "stream",
     "text": [
      "page_width:1269\n",
      "page_height:2607\n"
     ]
    },
    {
     "data": {
      "text/plain": [
       "True"
      ]
     },
     "execution_count": 18,
     "metadata": {},
     "output_type": "execute_result"
    }
   ],
   "source": [
    "page_width = driver.execute_script('return document.body.scrollWidth')\n",
    "page_height = driver.execute_script('return document.body.scrollHeight')\n",
    "print('page_width', page_width, sep=':')\n",
    "print('page_height', page_height, sep=':')\n",
    "driver.set_window_size(page_width, page_height)\n",
    "driver.save_screenshot('search_results.png')"
   ]
  },
  {
   "cell_type": "code",
   "execution_count": 20,
   "metadata": {},
   "outputs": [],
   "source": [
    "def adress_list(driver,url_list,famous_url_list,pattern):\n",
    "    class_name = \"yuRUbf\"\n",
    "    class_elems = driver.find_elements_by_class_name(class_name)\n",
    "#     print(class_elems)\n",
    "    for elem in class_elems:\n",
    "        a_tag = elem.find_element_by_tag_name(\"a\")\n",
    "        url = a_tag.get_attribute(\"href\")\n",
    "        if pattern.search(url):\n",
    "            famous_url_list.append(url)\n",
    "        else:\n",
    "            url_list.append(url)"
   ]
  },
  {
   "cell_type": "code",
   "execution_count": 21,
   "metadata": {},
   "outputs": [],
   "source": [
    "def title_list(driver):\n",
    "    class_name = \"yuRUbf\"\n",
    "    class_elems = driver.find_elements_by_class_name(class_name)\n",
    "#     print(class_elems)\n",
    "    for elem in class_elems:\n",
    "        h3_tag = elem.find_element_by_tag_name(\"h3\")\n",
    "#         url = a_tag.get_attribute(\"href\")\n",
    "#         if pattern.search(url):\n",
    "#             famous_url_list.append(url)\n",
    "#         else:\n",
    "#             url_list.append(url)\n",
    "        print(h3_tag)"
   ]
  },
  {
   "cell_type": "code",
   "execution_count": null,
   "metadata": {},
   "outputs": [],
   "source": [
    "title_list()"
   ]
  },
  {
   "cell_type": "code",
   "execution_count": 11,
   "metadata": {},
   "outputs": [],
   "source": [
    "def next_page(driver):\n",
    "    next_button = driver.find_element_by_id(\"pnnext\")\n",
    "    next_button.click()"
   ]
  },
  {
   "cell_type": "code",
   "execution_count": 12,
   "metadata": {},
   "outputs": [],
   "source": [
    "re_famous_list = r'amazon|youtube'\n",
    "pattern = re.compile(re_famous_list)"
   ]
  },
  {
   "cell_type": "code",
   "execution_count": 13,
   "metadata": {},
   "outputs": [],
   "source": [
    "url_list = []\n",
    "famous_url_list = []\n",
    "page_range = 3\n",
    "page_range += 1\n",
    "for page_num in range(1,page_range):\n",
    "    adress_list(driver,url_list,famous_url_list,pattern)\n",
    "    next_page(driver)"
   ]
  },
  {
   "cell_type": "code",
   "execution_count": 119,
   "metadata": {},
   "outputs": [
    {
     "data": {
      "text/plain": [
       "['https://www.apple.com/jp/',\n",
       " 'https://ja.wikipedia.org/wiki/%E3%82%A2%E3%83%83%E3%83%97%E3%83%AB_(%E4%BC%81%E6%A5%AD)',\n",
       " 'https://wired.jp/tag/apple/',\n",
       " 'https://iphone-mania.jp/news-347621/',\n",
       " 'https://kakaku.com/keitai/smartphone/?pdf_ma=9',\n",
       " 'https://ascii.jp/elem/000/004/044/4044176/',\n",
       " 'https://stocks.finance.yahoo.co.jp/us/bbs/AAPL',\n",
       " 'https://www.biccamera.com/bc/c/apple/index.jsp',\n",
       " 'https://jp.techcrunch.com/2021/02/14/2021-01-28-apples-tim-cook-warns-of-adtech-fuelling-a-social-catastrophe-as-he-defends-app-tracker-opt-in/',\n",
       " 'https://japan.cnet.com/article/35166433/',\n",
       " 'https://www.yodobashi.com/store/197600/',\n",
       " 'https://www.itmedia.co.jp/mobile/articles/2102/16/news064.html',\n",
       " 'https://www.kitamura.jp/service/apple/info/',\n",
       " 'https://www.gizmodo.jp/2021/02/apple-watch-customize-guide.html',\n",
       " 'https://www.applelinkage.com/',\n",
       " 'https://www.applenet.co.jp/',\n",
       " 'https://jp.reuters.com/article/apple-nissan-idJPKBN2AF03D',\n",
       " 'https://www.biccamera.co.jp/apple/repair/bring-in/',\n",
       " 'https://www.expansys.jp/store/apple/',\n",
       " 'https://www.bloomberg.co.jp/quote/AAPL:US',\n",
       " 'https://www.au.com/apple-watch/',\n",
       " 'https://appleworld.com/agt/',\n",
       " 'https://36kr.jp/118408/']"
      ]
     },
     "execution_count": 119,
     "metadata": {},
     "output_type": "execute_result"
    }
   ],
   "source": [
    "url_list"
   ]
  },
  {
   "cell_type": "code",
   "execution_count": 121,
   "metadata": {},
   "outputs": [
    {
     "data": {
      "text/plain": [
       "['https://www.youtube.com/channel/UCv5iVjD-tFfl04V4AB4XRYw',\n",
       " 'https://www.amazon.co.jp/stores/page/E2802B6E-C80B-49EB-8240-1032DA9DC503']"
      ]
     },
     "execution_count": 121,
     "metadata": {},
     "output_type": "execute_result"
    }
   ],
   "source": [
    "famous_url_list"
   ]
  }
 ],
 "metadata": {
  "kernelspec": {
   "display_name": "Python 3",
   "language": "python",
   "name": "python3"
  },
  "language_info": {
   "codemirror_mode": {
    "name": "ipython",
    "version": 3
   },
   "file_extension": ".py",
   "mimetype": "text/x-python",
   "name": "python",
   "nbconvert_exporter": "python",
   "pygments_lexer": "ipython3",
   "version": "3.8.5"
  }
 },
 "nbformat": 4,
 "nbformat_minor": 4
}

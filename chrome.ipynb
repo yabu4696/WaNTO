{
 "cells": [
  {
   "cell_type": "code",
   "execution_count": 22,
   "metadata": {},
   "outputs": [
    {
     "name": "stdout",
     "output_type": "stream",
     "text": [
      "Requirement already satisfied: selenium in /opt/conda/lib/python3.8/site-packages (3.141.0)\n",
      "Requirement already satisfied: urllib3 in /opt/conda/lib/python3.8/site-packages (from selenium) (1.25.11)\n",
      "Collecting bs4\n",
      "  Downloading bs4-0.0.1.tar.gz (1.1 kB)\n",
      "Requirement already satisfied: beautifulsoup4 in /opt/conda/lib/python3.8/site-packages (from bs4) (4.9.3)\n",
      "Requirement already satisfied: soupsieve>1.2; python_version >= \"3.0\" in /opt/conda/lib/python3.8/site-packages (from beautifulsoup4->bs4) (2.0.1)\n",
      "Building wheels for collected packages: bs4\n",
      "  Building wheel for bs4 (setup.py) ... \u001b[?25ldone\n",
      "\u001b[?25h  Created wheel for bs4: filename=bs4-0.0.1-py3-none-any.whl size=1273 sha256=6a096ea332622ded9b579b216960e79b4be03d4e3c52c3b37fdde0d5ccbdcba1\n",
      "  Stored in directory: /root/.cache/pip/wheels/75/78/21/68b124549c9bdc94f822c02fb9aa3578a669843f9767776bca\n",
      "Successfully built bs4\n",
      "Installing collected packages: bs4\n",
      "Successfully installed bs4-0.0.1\n"
     ]
    }
   ],
   "source": [
    "!pip install selenium\n",
    "!pip install bs4"
   ]
  },
  {
   "cell_type": "code",
   "execution_count": 1,
   "metadata": {},
   "outputs": [],
   "source": [
    "from bs4 import BeautifulSoup\n",
    "import urllib.request as req\n",
    "from selenium import webdriver\n",
    "from selenium.webdriver.chrome.options import Options\n",
    "from selenium.webdriver.common.keys import Keys\n",
    "import time \n",
    "import pandas as pd\n",
    "import os\n",
    "import datetime \n",
    "import re\n",
    "import requests\n",
    "from http.client import RemoteDisconnected"
   ]
  },
  {
   "cell_type": "code",
   "execution_count": 2,
   "metadata": {},
   "outputs": [],
   "source": [
    "CHROME_BIN = '/opt/google/chrome/chrome'\n",
    "CHROME_DRIVER = '/opt/chrome/chromedriver'"
   ]
  },
  {
   "cell_type": "code",
   "execution_count": 3,
   "metadata": {},
   "outputs": [],
   "source": [
    "options = Options()\n",
    "options.binary_location = CHROME_BIN\n",
    "options.add_argument(\"--disable-dev-shm-usage\")\n",
    "options.add_argument(\"start-maximized\")\n",
    "options.add_argument(\"disable-infobars\")\n",
    "options.add_argument(\"--disable-extensions\")\n",
    "options.add_argument(\"--disable-gpu\")\n",
    "options.add_argument(\"--no-sandbox\")\n",
    "options.add_argument('--lang=ja-JP')\n",
    "options.add_argument('--headless')"
   ]
  },
  {
   "cell_type": "code",
   "execution_count": 4,
   "metadata": {},
   "outputs": [],
   "source": [
    "driver = webdriver.Chrome(options=options,executable_path = CHROME_DRIVER)\n",
    "driver.implicitly_wait(10)"
   ]
  },
  {
   "cell_type": "code",
   "execution_count": 33,
   "metadata": {},
   "outputs": [],
   "source": [
    "driver.get(\"https://google.com\")"
   ]
  },
  {
   "cell_type": "code",
   "execution_count": 6,
   "metadata": {},
   "outputs": [
    {
     "name": "stdout",
     "output_type": "stream",
     "text": [
      "True\n"
     ]
    }
   ],
   "source": [
    "assert 'Google' in driver.title\n",
    "print('True')"
   ]
  },
  {
   "cell_type": "code",
   "execution_count": 34,
   "metadata": {},
   "outputs": [],
   "source": [
    "# kw = input('検索：')\n",
    "# kw = kw.decode('utf-8')\n",
    "kw = 'mac mini'\n",
    "input_element = driver.find_element_by_name('q')\n",
    "input_element.clear()\n",
    "input_element.send_keys(kw)\n",
    "input_element.send_keys(Keys.RETURN)\n",
    "time.sleep(2)  #"
   ]
  },
  {
   "cell_type": "code",
   "execution_count": 16,
   "metadata": {},
   "outputs": [
    {
     "name": "stdout",
     "output_type": "stream",
     "text": [
      "True\n"
     ]
    }
   ],
   "source": [
    "assert kw in driver.title\n",
    "print('True')"
   ]
  },
  {
   "cell_type": "code",
   "execution_count": 8,
   "metadata": {},
   "outputs": [
    {
     "name": "stdout",
     "output_type": "stream",
     "text": [
      "page_width:1261\n",
      "page_height:2334\n"
     ]
    },
    {
     "data": {
      "text/plain": [
       "True"
      ]
     },
     "execution_count": 8,
     "metadata": {},
     "output_type": "execute_result"
    }
   ],
   "source": [
    "page_width = driver.execute_script('return document.body.scrollWidth')\n",
    "page_height = driver.execute_script('return document.body.scrollHeight')\n",
    "print('page_width', page_width, sep=':')\n",
    "print('page_height', page_height, sep=':')\n",
    "driver.set_window_size(page_width, page_height)\n",
    "driver.save_screenshot('search_results.png')"
   ]
  },
  {
   "cell_type": "code",
   "execution_count": 36,
   "metadata": {},
   "outputs": [],
   "source": [
    "def get_title(url):\n",
    "#     try:\n",
    "    headers_dic = {\"User-Agent\": \"Mozilla/5.0 (Macintosh; Intel Mac OS X 10_15_2) AppleWebKit/537.36 (KHTML, like Gecko) Chrome/79.0.3945.130 Safari/537.36\"}\n",
    "    \n",
    "    url_info = requests.get(url,headers=headers_dic)\n",
    "#     except RemoteDisconnected:\n",
    "#         print('error')\n",
    "#         return\n",
    "#     try:\n",
    "    url_html = BeautifulSoup(url_info.content, \"html.parser\")\n",
    "#     except RemoteDisconnected:\n",
    "#         print('error')\n",
    "#         return\n",
    "    title = url_html.find('title')\n",
    "    return title.text"
   ]
  },
  {
   "cell_type": "code",
   "execution_count": 37,
   "metadata": {},
   "outputs": [],
   "source": [
    "def adress_list(driver,url_dict,famous_url_dict,pattern):\n",
    "    class_name = \"yuRUbf\"\n",
    "    class_elems = driver.find_elements_by_class_name(class_name)\n",
    "#     print(class_elems)\n",
    "    for elem in class_elems:\n",
    "        a_tag = elem.find_element_by_tag_name(\"a\")\n",
    "        url = a_tag.get_attribute(\"href\")\n",
    "        if pattern.search(url):\n",
    "            title = get_title(url)\n",
    "            famous_url_dict[url] = title\n",
    "        else:\n",
    "            title = get_title(url)\n",
    "            url_dict[url] = title"
   ]
  },
  {
   "cell_type": "code",
   "execution_count": 38,
   "metadata": {},
   "outputs": [],
   "source": [
    "def next_page(driver):\n",
    "    next_button = driver.find_element_by_id(\"pnnext\")\n",
    "    next_button.click()"
   ]
  },
  {
   "cell_type": "code",
   "execution_count": 12,
   "metadata": {},
   "outputs": [],
   "source": [
    "re_famous_list = r'amazon|youtube'\n",
    "pattern = re.compile(re_famous_list)"
   ]
  },
  {
   "cell_type": "code",
   "execution_count": 43,
   "metadata": {},
   "outputs": [],
   "source": [
    "url_dict = {}\n",
    "except_url_dict = {}\n",
    "page_range = 1\n",
    "page_range += 1\n",
    "for page_num in range(1,page_range):\n",
    "    adress_list(driver,url_dict,except_url_dict,pattern)\n",
    "    next_page(driver)"
   ]
  },
  {
   "cell_type": "code",
   "execution_count": 44,
   "metadata": {},
   "outputs": [
    {
     "name": "stdout",
     "output_type": "stream",
     "text": [
      "https://www.yamada-denkiweb.com/search/Mac%20mini/?path=0007-%E3%83%91%E3%82%BD%E3%82%B3%E3%83%B3%E3%83%BB%E5%91%A8%E8%BE%BA%E6%A9%9F%E5%99%A8%E3%83%BBPC%E3%82%BD%E3%83%95%E3%83%88%3A0001-%E3%83%91%E3%82%BD%E3%82%B3%E3%83%B3%E3%83%BB%E3%82%BF%E3%83%96%E3%83%AC%E3%83%83%E3%83%88PC%3A0006-207001006_Apple%E3%83%87%E3%82%B9%E3%82%AF%E3%83%88%E3%83%83%E3%83%97&s3[]=%E3%82%A2%E3%83%83%E3%83%97%E3%83%AB%EF%BC%88Apple%EF%BC%89 Mac mini | ヤマダウェブコム\n",
      "https://www.kitcut.co.jp/onlinestore/floor/mac/Apple_Mac_mini kitcut Online Store : Mac mini\n",
      "https://c-smart.jp/item?category_id=506 Mac mini｜Online Store｜C smart公式オンラインストア\n",
      "https://iphone-mania.jp/news-328088/ M1搭載Mac miniとIntelプロセッサ搭載Mac miniに多くの違い - iPhone Mania\n",
      "https://www.maccosmetics.jp/collections-mini MINI MAC Collection Page | MAC公式オンラインショップ\n",
      "https://japanese.engadget.com/m1-mac-power-consumption-thermal-output-063050307.html 歴代Mac miniの電力消費と熱出力を比較。M1チップの優れた省電力性能が明らかに - Engadget 日本版\n",
      "https://xtech.nikkei.com/atcl/nxt/column/18/01473/120400006/ 驚異的な性能向上は本物か、M1搭載「Mac mini」の実力を試す | 日経クロステック（xTECH）\n",
      "https://www.sofmap.com/product_list.aspx?gid=001010040020020 Apple関連 Mac mini｜パソコンの通販はソフマップ[sofmap]\n",
      "https://www1.pcdepot.co.jp/disp/CSfDispListPage_001.jsp?q=mac+mini [mac miniの検索結果] -PCDEPOT(PCデポ)WEB本店\n",
      "https://www.ksdenki.com/shop/r/r08010504_osp/ パソコン・周辺機器/パソコン/Macデスクトップパソコン/Mac mini(並び順：価格の安い順)｜[通販]ケーズデンキ\n"
     ]
    }
   ],
   "source": [
    "for url,title in url_dict.items():\n",
    "    print(url,title)"
   ]
  },
  {
   "cell_type": "code",
   "execution_count": 135,
   "metadata": {},
   "outputs": [
    {
     "data": {
      "text/plain": [
       "dict"
      ]
     },
     "execution_count": 135,
     "metadata": {},
     "output_type": "execute_result"
    }
   ],
   "source": [
    "type(url_dict)"
   ]
  },
  {
   "cell_type": "code",
   "execution_count": 105,
   "metadata": {},
   "outputs": [
    {
     "data": {
      "text/plain": [
       "['https://www.amazon.co.jp/Apple-Mac-mini-Chip-512GB/dp/B08N6M3ZWY']"
      ]
     },
     "execution_count": 105,
     "metadata": {},
     "output_type": "execute_result"
    }
   ],
   "source": [
    "famous_url_list"
   ]
  },
  {
   "cell_type": "code",
   "execution_count": 106,
   "metadata": {},
   "outputs": [
    {
     "data": {
      "text/plain": [
       "['Amazon.co.jp']"
      ]
     },
     "execution_count": 106,
     "metadata": {},
     "output_type": "execute_result"
    }
   ],
   "source": [
    "famous_title_list"
   ]
  },
  {
   "cell_type": "code",
   "execution_count": 67,
   "metadata": {},
   "outputs": [],
   "source": [
    "url_info = requests.get('https://www.apple.com/jp/mac-mini/')"
   ]
  },
  {
   "cell_type": "code",
   "execution_count": 68,
   "metadata": {},
   "outputs": [],
   "source": [
    "url_html = BeautifulSoup(url_info.text, \"html.parser\")"
   ]
  },
  {
   "cell_type": "code",
   "execution_count": 69,
   "metadata": {},
   "outputs": [],
   "source": [
    "title = url_html.find('title')"
   ]
  },
  {
   "cell_type": "code",
   "execution_count": 65,
   "metadata": {},
   "outputs": [
    {
     "data": {
      "text/plain": [
       "bs4.element.Tag"
      ]
     },
     "execution_count": 65,
     "metadata": {},
     "output_type": "execute_result"
    }
   ],
   "source": [
    "type(title)"
   ]
  },
  {
   "cell_type": "code",
   "execution_count": 91,
   "metadata": {},
   "outputs": [
    {
     "data": {
      "text/plain": [
       "'Mac mini - Apple（日本）'"
      ]
     },
     "execution_count": 91,
     "metadata": {},
     "output_type": "execute_result"
    }
   ],
   "source": [
    "title.text"
   ]
  },
  {
   "cell_type": "code",
   "execution_count": null,
   "metadata": {},
   "outputs": [],
   "source": []
  }
 ],
 "metadata": {
  "kernelspec": {
   "display_name": "Python 3",
   "language": "python",
   "name": "python3"
  },
  "language_info": {
   "codemirror_mode": {
    "name": "ipython",
    "version": 3
   },
   "file_extension": ".py",
   "mimetype": "text/x-python",
   "name": "python",
   "nbconvert_exporter": "python",
   "pygments_lexer": "ipython3",
   "version": "3.8.5"
  }
 },
 "nbformat": 4,
 "nbformat_minor": 4
}

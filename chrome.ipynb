{
 "cells": [
  {
   "cell_type": "code",
   "execution_count": 22,
   "metadata": {},
   "outputs": [
    {
     "name": "stdout",
     "output_type": "stream",
     "text": [
      "Requirement already satisfied: selenium in /opt/conda/lib/python3.8/site-packages (3.141.0)\n",
      "Requirement already satisfied: urllib3 in /opt/conda/lib/python3.8/site-packages (from selenium) (1.25.11)\n",
      "Collecting bs4\n",
      "  Downloading bs4-0.0.1.tar.gz (1.1 kB)\n",
      "Requirement already satisfied: beautifulsoup4 in /opt/conda/lib/python3.8/site-packages (from bs4) (4.9.3)\n",
      "Requirement already satisfied: soupsieve>1.2; python_version >= \"3.0\" in /opt/conda/lib/python3.8/site-packages (from beautifulsoup4->bs4) (2.0.1)\n",
      "Building wheels for collected packages: bs4\n",
      "  Building wheel for bs4 (setup.py) ... \u001b[?25ldone\n",
      "\u001b[?25h  Created wheel for bs4: filename=bs4-0.0.1-py3-none-any.whl size=1273 sha256=6a096ea332622ded9b579b216960e79b4be03d4e3c52c3b37fdde0d5ccbdcba1\n",
      "  Stored in directory: /root/.cache/pip/wheels/75/78/21/68b124549c9bdc94f822c02fb9aa3578a669843f9767776bca\n",
      "Successfully built bs4\n",
      "Installing collected packages: bs4\n",
      "Successfully installed bs4-0.0.1\n"
     ]
    }
   ],
   "source": [
    "!pip install selenium\n",
    "!pip install bs4"
   ]
  },
  {
   "cell_type": "code",
   "execution_count": 26,
   "metadata": {},
   "outputs": [],
   "source": [
    "from bs4 import BeautifulSoup\n",
    "import urllib.request as req\n",
    "from selenium import webdriver\n",
    "from selenium.webdriver.chrome.options import Options\n",
    "from selenium.webdriver.common.keys import Keys\n",
    "import time \n",
    "import pandas as pd\n",
    "import os\n",
    "import datetime \n",
    "import re\n",
    "import requests"
   ]
  },
  {
   "cell_type": "code",
   "execution_count": 2,
   "metadata": {},
   "outputs": [],
   "source": [
    "CHROME_BIN = '/opt/google/chrome/chrome'\n",
    "CHROME_DRIVER = '/opt/chrome/chromedriver'"
   ]
  },
  {
   "cell_type": "code",
   "execution_count": 3,
   "metadata": {},
   "outputs": [],
   "source": [
    "options = Options()\n",
    "options.binary_location = CHROME_BIN\n",
    "options.add_argument(\"--disable-dev-shm-usage\")\n",
    "options.add_argument(\"start-maximized\")\n",
    "options.add_argument(\"disable-infobars\")\n",
    "options.add_argument(\"--disable-extensions\")\n",
    "options.add_argument(\"--disable-gpu\")\n",
    "options.add_argument(\"--no-sandbox\")\n",
    "options.add_argument('--lang=ja-JP')\n",
    "options.add_argument('--headless')"
   ]
  },
  {
   "cell_type": "code",
   "execution_count": 4,
   "metadata": {},
   "outputs": [],
   "source": [
    "driver = webdriver.Chrome(options=options,executable_path = CHROME_DRIVER)\n",
    "driver.implicitly_wait(10)"
   ]
  },
  {
   "cell_type": "code",
   "execution_count": 94,
   "metadata": {},
   "outputs": [],
   "source": [
    "driver.get(\"https://google.com\")"
   ]
  },
  {
   "cell_type": "code",
   "execution_count": 95,
   "metadata": {},
   "outputs": [
    {
     "name": "stdout",
     "output_type": "stream",
     "text": [
      "True\n"
     ]
    }
   ],
   "source": [
    "assert 'Google' in driver.title\n",
    "print('True')"
   ]
  },
  {
   "cell_type": "code",
   "execution_count": 96,
   "metadata": {},
   "outputs": [],
   "source": [
    "# kw = input('検索：')\n",
    "# kw = kw.decode('utf-8')\n",
    "kw = 'mac mini'\n",
    "input_element = driver.find_element_by_name('q')\n",
    "input_element.clear()\n",
    "input_element.send_keys(kw)\n",
    "input_element.send_keys(Keys.RETURN)\n",
    "time.sleep(2)  #"
   ]
  },
  {
   "cell_type": "code",
   "execution_count": 97,
   "metadata": {},
   "outputs": [
    {
     "name": "stdout",
     "output_type": "stream",
     "text": [
      "True\n"
     ]
    }
   ],
   "source": [
    "assert kw in driver.title\n",
    "print('True')"
   ]
  },
  {
   "cell_type": "code",
   "execution_count": 18,
   "metadata": {},
   "outputs": [
    {
     "name": "stdout",
     "output_type": "stream",
     "text": [
      "page_width:1269\n",
      "page_height:2607\n"
     ]
    },
    {
     "data": {
      "text/plain": [
       "True"
      ]
     },
     "execution_count": 18,
     "metadata": {},
     "output_type": "execute_result"
    }
   ],
   "source": [
    "page_width = driver.execute_script('return document.body.scrollWidth')\n",
    "page_height = driver.execute_script('return document.body.scrollHeight')\n",
    "print('page_width', page_width, sep=':')\n",
    "print('page_height', page_height, sep=':')\n",
    "driver.set_window_size(page_width, page_height)\n",
    "driver.save_screenshot('search_results.png')"
   ]
  },
  {
   "cell_type": "code",
   "execution_count": 98,
   "metadata": {},
   "outputs": [],
   "source": [
    "def get_title(url):\n",
    "    url_info = requests.get(url)\n",
    "    url_html = BeautifulSoup(url_info.text, \"html.parser\")\n",
    "    title = url_html.find('title')\n",
    "    return title.text"
   ]
  },
  {
   "cell_type": "code",
   "execution_count": 99,
   "metadata": {},
   "outputs": [],
   "source": [
    "def adress_list(driver,url_list,famous_url_list,pattern):\n",
    "    class_name = \"yuRUbf\"\n",
    "    class_elems = driver.find_elements_by_class_name(class_name)\n",
    "#     print(class_elems)\n",
    "    for elem in class_elems:\n",
    "        a_tag = elem.find_element_by_tag_name(\"a\")\n",
    "        url = a_tag.get_attribute(\"href\")\n",
    "        if pattern.search(url):\n",
    "            famous_url_list.append(url)\n",
    "            title = get_title(url)\n",
    "            famous_title_list.append(title)\n",
    "        else:\n",
    "            url_list.append(url)\n",
    "            title = get_title(url)\n",
    "            title_list.append(title)"
   ]
  },
  {
   "cell_type": "code",
   "execution_count": 100,
   "metadata": {},
   "outputs": [],
   "source": [
    "def next_page(driver):\n",
    "    next_button = driver.find_element_by_id(\"pnnext\")\n",
    "    next_button.click()"
   ]
  },
  {
   "cell_type": "code",
   "execution_count": 101,
   "metadata": {},
   "outputs": [],
   "source": [
    "re_famous_list = r'amazon|youtube'\n",
    "pattern = re.compile(re_famous_list)"
   ]
  },
  {
   "cell_type": "code",
   "execution_count": 102,
   "metadata": {},
   "outputs": [],
   "source": [
    "url_list = []\n",
    "title_list = []\n",
    "famous_url_list = []\n",
    "famous_title_list = []\n",
    "page_range = 1\n",
    "page_range += 1\n",
    "for page_num in range(1,page_range):\n",
    "    adress_list(driver,url_list,famous_url_list,pattern)\n",
    "    next_page(driver)"
   ]
  },
  {
   "cell_type": "code",
   "execution_count": 103,
   "metadata": {},
   "outputs": [
    {
     "data": {
      "text/plain": [
       "['https://www.apple.com/jp/mac-mini/',\n",
       " 'https://www.apple.com/jp/shop/buy-mac/mac-mini',\n",
       " 'https://www.apple.com/jp/mac-mini/specs/',\n",
       " 'https://pc.watch.impress.co.jp/docs/column/nishikawa/1290745.html',\n",
       " 'https://ja.wikipedia.org/wiki/Mac_mini',\n",
       " 'https://ascii.jp/elem/000/004/034/4034495/',\n",
       " 'https://kakaku.com/pc/mac-desktop-pc/itemlist.aspx?pdf_se=105',\n",
       " 'https://jp.techcrunch.com/2020/11/19/3950372020-11-17-the-new-mac-mini-the-revival-of-the-no-compromise-low-cost-mac/',\n",
       " 'https://www.gizmodo.jp/2021/02/m1mini.html']"
      ]
     },
     "execution_count": 103,
     "metadata": {},
     "output_type": "execute_result"
    }
   ],
   "source": [
    "url_list"
   ]
  },
  {
   "cell_type": "code",
   "execution_count": 104,
   "metadata": {},
   "outputs": [
    {
     "data": {
      "text/plain": [
       "['Mac mini - Apple（日本）',\n",
       " 'Mac miniを購入 - Apple（日本）',\n",
       " 'Mac mini - 仕様 - Apple（日本）',\n",
       " '【西川和久の不定期コラム】M1版Mac mini購入記。驚愕のパフォーマンスと、CrossOver 20で秀丸の動作も確認  - PC Watch',\n",
       " 'Mac mini - Wikipedia',\n",
       " 'ASCII.jp：アップル「M1版Mac mini」意外なほど使えるマシン (1/3)',\n",
       " '価格.com - Apple Mac miniのMac デスクトップ 人気売れ筋ランキング',\n",
       " 'M1搭載Mac miniレビュー、高性能で低価格なデスクトップMacの復活  |  TechCrunch Japan',\n",
       " 'M1搭載Mac miniのべストなセットアップ方法 | ギズモード・ジャパン']"
      ]
     },
     "execution_count": 104,
     "metadata": {},
     "output_type": "execute_result"
    }
   ],
   "source": [
    "title_list"
   ]
  },
  {
   "cell_type": "code",
   "execution_count": 105,
   "metadata": {},
   "outputs": [
    {
     "data": {
      "text/plain": [
       "['https://www.amazon.co.jp/Apple-Mac-mini-Chip-512GB/dp/B08N6M3ZWY']"
      ]
     },
     "execution_count": 105,
     "metadata": {},
     "output_type": "execute_result"
    }
   ],
   "source": [
    "famous_url_list"
   ]
  },
  {
   "cell_type": "code",
   "execution_count": 106,
   "metadata": {},
   "outputs": [
    {
     "data": {
      "text/plain": [
       "['Amazon.co.jp']"
      ]
     },
     "execution_count": 106,
     "metadata": {},
     "output_type": "execute_result"
    }
   ],
   "source": [
    "famous_title_list"
   ]
  },
  {
   "cell_type": "code",
   "execution_count": 67,
   "metadata": {},
   "outputs": [],
   "source": [
    "url_info = requests.get('https://www.apple.com/jp/mac-mini/')"
   ]
  },
  {
   "cell_type": "code",
   "execution_count": 68,
   "metadata": {},
   "outputs": [],
   "source": [
    "url_html = BeautifulSoup(url_info.text, \"html.parser\")"
   ]
  },
  {
   "cell_type": "code",
   "execution_count": 69,
   "metadata": {},
   "outputs": [],
   "source": [
    "title = url_html.find('title')"
   ]
  },
  {
   "cell_type": "code",
   "execution_count": 65,
   "metadata": {},
   "outputs": [
    {
     "data": {
      "text/plain": [
       "bs4.element.Tag"
      ]
     },
     "execution_count": 65,
     "metadata": {},
     "output_type": "execute_result"
    }
   ],
   "source": [
    "type(title)"
   ]
  },
  {
   "cell_type": "code",
   "execution_count": 91,
   "metadata": {},
   "outputs": [
    {
     "data": {
      "text/plain": [
       "'Mac mini - Apple（日本）'"
      ]
     },
     "execution_count": 91,
     "metadata": {},
     "output_type": "execute_result"
    }
   ],
   "source": [
    "title.text"
   ]
  },
  {
   "cell_type": "code",
   "execution_count": null,
   "metadata": {},
   "outputs": [],
   "source": []
  }
 ],
 "metadata": {
  "kernelspec": {
   "display_name": "Python 3",
   "language": "python",
   "name": "python3"
  },
  "language_info": {
   "codemirror_mode": {
    "name": "ipython",
    "version": 3
   },
   "file_extension": ".py",
   "mimetype": "text/x-python",
   "name": "python",
   "nbconvert_exporter": "python",
   "pygments_lexer": "ipython3",
   "version": "3.8.5"
  }
 },
 "nbformat": 4,
 "nbformat_minor": 4
}
